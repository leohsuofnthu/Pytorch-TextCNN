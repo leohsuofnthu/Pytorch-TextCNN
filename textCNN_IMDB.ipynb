{
  "nbformat": 4,
  "nbformat_minor": 0,
  "metadata": {
    "colab": {
      "name": "textCNN_IMDB.ipynb",
      "version": "0.3.2",
      "provenance": [],
      "collapsed_sections": [],
      "include_colab_link": true
    },
    "kernelspec": {
      "name": "python3",
      "display_name": "Python 3"
    },
    "accelerator": "GPU"
  },
  "cells": [
    {
      "cell_type": "markdown",
      "metadata": {
        "id": "view-in-github",
        "colab_type": "text"
      },
      "source": [
        "<a href=\"https://colab.research.google.com/github/leohsuofnthu/Pytorch-TextCNN/blob/master/textCNN_IMDB.ipynb\" target=\"_parent\"><img src=\"https://colab.research.google.com/assets/colab-badge.svg\" alt=\"Open In Colab\"/></a>"
      ]
    },
    {
      "cell_type": "code",
      "metadata": {
        "id": "oDi2Zu6Wduss",
        "colab_type": "code",
        "colab": {}
      },
      "source": [
        "import re\n",
        "\n",
        "\n",
        "import pandas as pd\n",
        "from numpy.random import RandomState\n",
        "\n",
        "import torchtext\n",
        "from torchtext.data import Field\n",
        "from torchtext.data import TabularDataset\n",
        "from torchtext.vocab import GloVe\n",
        "from torchtext.data import Iterator, BucketIterator\n",
        "import torchtext.datasets\n",
        "from torchtext.datasets import IMDB, SST\n",
        "\n",
        "import spacy\n",
        "\n",
        "import torch\n",
        "import torch.nn as nn\n",
        "import torch.optim as optim\n",
        "import torch.nn.functional as F\n",
        "\n",
        "import matplotlib.pyplot as plt"
      ],
      "execution_count": 0,
      "outputs": []
    },
    {
      "cell_type": "code",
      "metadata": {
        "id": "B3b8tR4hUI1h",
        "colab_type": "code",
        "colab": {}
      },
      "source": [
        "#%% Split whole dataset into train and valid set\n",
        "df = pd.read_csv('./IMDB_Dataset.csv')\n",
        "rng = RandomState()\n",
        "\n",
        "tr = df.sample(frac=0.7, random_state=rng)\n",
        "tst = df.loc[~df.index.isin(tr.index)]\n",
        "tr.to_csv('train.csv', index=False)\n",
        "tst.to_csv('valid.csv', index=False)"
      ],
      "execution_count": 0,
      "outputs": []
    },
    {
      "cell_type": "code",
      "metadata": {
        "id": "mLibIFbDUmTu",
        "colab_type": "code",
        "colab": {}
      },
      "source": [
        "#%% Prepare the dataset via torchtext\n",
        "spacy_en = spacy.load('en', disable=['tagger', 'parser', 'ner', 'textcat'\n",
        "                                     'entity_ruler', 'sentencizer', \n",
        "                                     'merge_noun_chunks', 'merge_entities',\n",
        "                                     'merge_subtokens'])\n",
        "\n",
        "def tokenizer(text):\n",
        "    return [tok.text for tok in spacy_en.tokenizer(text)]\n",
        "  \n",
        "# set up fields\n",
        "def clean_str(string):\n",
        "    \"\"\"\n",
        "    Tokenization/string cleaning for all datasets except for SST.\n",
        "    Original taken from https://github.com/yoonkim/CNN_sentence/blob/master/process_data.py\n",
        "    \"\"\"\n",
        "    string = re.sub(r\"[^A-Za-z0-9(),!?\\'\\`]\", \" \", string)\n",
        "    string = re.sub(r\"\\'s\", \" \\'s\", string)\n",
        "    string = re.sub(r\"\\'ve\", \" \\'ve\", string)\n",
        "    string = re.sub(r\"n\\'t\", \" n\\'t\", string)\n",
        "    string = re.sub(r\"\\'re\", \" \\'re\", string)\n",
        "    string = re.sub(r\"\\'d\", \" \\'d\", string)\n",
        "    string = re.sub(r\"\\'ll\", \" \\'ll\", string)\n",
        "    string = re.sub(r\",\", \" , \", string)\n",
        "    string = re.sub(r\"!\", \" ! \", string)\n",
        "    string = re.sub(r\"\\(\", \" \\( \", string)\n",
        "    string = re.sub(r\"\\)\", \" \\) \", string)\n",
        "    string = re.sub(r\"\\?\", \" \\? \", string)\n",
        "    string = re.sub(r\"\\s{2,}\", \" \", string)\n",
        "    return string.strip()\n",
        "  \n",
        "  \n",
        "\n",
        "\n",
        "#Creating field for text and label\n",
        "TEXT = Field(sequential=True, tokenize=tokenizer, lower=True)\n",
        "LABEL = Field(sequential=False)\n",
        "\n",
        "#clean the text\n",
        "TEXT.preprocessing = torchtext.data.Pipeline(clean_str)"
      ],
      "execution_count": 0,
      "outputs": []
    },
    {
      "cell_type": "code",
      "metadata": {
        "id": "9y53KC7iV0rG",
        "colab_type": "code",
        "colab": {}
      },
      "source": [
        "#%%\n",
        "train_datafield = [('text', TEXT),  ('label', LABEL)]\n",
        "train = TabularDataset(path ='./train.csv',  \n",
        "                             format='csv',\n",
        "                             skip_header=True,\n",
        "                             fields=train_datafield)\n",
        "\n",
        "\n",
        "#%%\n",
        "test_datafield = [('text', TEXT),  ('label',LABEL)]\n",
        "\n",
        "test = TabularDataset(path ='./valid.csv', \n",
        "                       format='csv',\n",
        "                       skip_header=True,\n",
        "                       fields=test_datafield)"
      ],
      "execution_count": 0,
      "outputs": []
    },
    {
      "cell_type": "code",
      "metadata": {
        "id": "D4hEm_F-uC8C",
        "colab_type": "code",
        "outputId": "67028331-b761-405c-ff0f-994c40cc950d",
        "colab": {
          "base_uri": "https://localhost:8080/",
          "height": 70
        }
      },
      "source": [
        "#%%Show some example to show the dataset\n",
        "print(train[0].text,  train[0].label)\n",
        "print(test[0].text,  test[0].label)"
      ],
      "execution_count": 5,
      "outputs": [
        {
          "output_type": "stream",
          "text": [
            "['i', 'do', \"n't\", 'know', 'if', 'i', 'hate', 'this', 'movie', 'as', 'much', 'as', 'i', 'did', 'when', 'i', 'watched', 'it', 'two', 'weeks', 'ago', ',', 'but', 'if', 'you', \"'re\", 'expecting', 'the', 'events', 'described', 'on', 'the', 'box', ',', 'forget', 'it', '', 'that', 'would', 'have', 'been', 'a', 'good', 'movie', '', 'the', 'great', 'descent', 'described', 'on', 'the', 'box', 'is', 'nothing', 'compared', 'to', 'the', 'descent', 'into', 'utter', 'dispair', 'that', 'i', 'took', 'viewing', 'this', 'movie', '', 'if', 'you', \"'ve\", 'seen', 'hbo', \"'s\", 'taxi', 'cab', 'confessions', ',', 'this', 'is', 'the', 'same', 'thing', ',', 'only', 'fictional', ',', 'and', 'not', 'even', 'remotely', 'as', 'interesting', '', 'if', 'you', 'really', 'want', 'to', 'see', 'something', 'interesting', 'about', 'a', 'cab', 'driver', ',', 'check', 'out', 'the', '20', 'minute', 'short', 'they', 'run', 'on', 'encore', 'from', 'time', 'to', 'time', '', 'it', 'is', 'actually', 'worth', 'watching', '', 'i', 'have', 'never', ',', 'ever', 'asked', 'for', 'my', 'money', 'back', 'for', 'a', 'movie', 'until', 'i', 'saw', 'this', '', 'thing', '', 'boring', ',', 'boring', ',', 'boring', '', 'it', 'does', 'offer', 'one', 'unique', 'trait', ',', 'which', 'is', 'this', '', 'it', 'leaves', 'you', 'to', 'decide', 'what', 'happens', 'to', 'each', 'of', 'the', 'passengers', ',', 'letting', 'your', 'imagination', 'fill', 'in', 'the', 'gaps', '', 'which', 'would', 'be', 'great', ',', 'if', 'you', 'actually', 'cared', 'about', 'any', 'of', 'these', 'people', '', 'instead', 'i', 'found', 'myself', 'yelling', 'at', 'the', 'screen', ',', 'weeping', 'like', 'a', 'child', ',', 'praying', 'for', 'either', 'the', 'end', 'of', 'the', 'movie', 'or', 'my', 'own', 'death', '', 'the', 'cab', 'driver', 'himself', '\\\\(', 'though', 'well', 'played', ',', 'considering', '\\\\)', 'runs', 'through', 'emotions', 'seemingly', 'at', 'random', ',', 'from', 'sarcastic', 'to', 'sympathetic', 'to', 'raging', 'lunatic', 'to', 'apathetic', '', 'sometimes', 'it', 'is', 'appropriate', ',', 'most', 'of', 'the', 'time', 'it', \"'s\", 'just', 'a', 'display', 'for', 'it', \"'s\", 'own', 'sake', '', '', 'dammit', ',', 'i', 'learned', 'all', 'these', 'emotions', 'in', 'acting', 'class', ',', 'and', 'i', \"'m\", 'gon', 'na', 'use', 'them', '!', '', 'now', 'that', 'i', \"'ve\", 'been', 'thinking', 'about', 'it', 'again', ',', 'i', 'do', 'hate', 'this', 'movie', 'as', 'much', 'as', 'i', 'did', '!'] negative\n",
            "['one', 'of', 'the', 'other', 'reviewers', 'has', 'mentioned', 'that', 'after', 'watching', 'just', '1', 'oz', 'episode', 'you', \"'ll\", 'be', 'hooked', '', 'they', 'are', 'right', ',', 'as', 'this', 'is', 'exactly', 'what', 'happened', 'with', 'me br', 'br', 'the', 'first', 'thing', 'that', 'struck', 'me', 'about', 'oz', 'was', 'its', 'brutality', 'and', 'unflinching', 'scenes', 'of', 'violence', ',', 'which', 'set', 'in', 'right', 'from', 'the', 'word', 'go', '', 'trust', 'me', ',', 'this', 'is', 'not', 'a', 'show', 'for', 'the', 'faint', 'hearted', 'or', 'timid', '', 'this', 'show', 'pulls', 'no', 'punches', 'with', 'regards', 'to', 'drugs', ',', 'sex', 'or', 'violence', '', 'its', 'is', 'hardcore', ',', 'in', 'the', 'classic', 'use', 'of', 'the', 'word br', 'br', 'it', 'is', 'called', 'oz', 'as', 'that', 'is', 'the', 'nickname', 'given', 'to', 'the', 'oswald', 'maximum', 'security', 'state', 'penitentary', '', 'it', 'focuses', 'mainly', 'on', 'emerald', 'city', ',', 'an', 'experimental', 'section', 'of', 'the', 'prison', 'where', 'all', 'the', 'cells', 'have', 'glass', 'fronts', 'and', 'face', 'inwards', ',', 'so', 'privacy', 'is', 'not', 'high', 'on', 'the', 'agenda', '', 'em', 'city', 'is', 'home', 'to', 'many', '', 'aryans', ',', 'muslims', ',', 'gangstas', ',', 'latinos', ',', 'christians', ',', 'italians', ',', 'irish', 'and', 'more', '', 'so', 'scuffles', ',', 'death', 'stares', ',', 'dodgy', 'dealings', 'and', 'shady', 'agreements', 'are', 'never', 'far', 'away br', 'br', 'i', 'would', 'say', 'the', 'main', 'appeal', 'of', 'the', 'show', 'is', 'due', 'to', 'the', 'fact', 'that', 'it', 'goes', 'where', 'other', 'shows', 'would', \"n't\", 'dare', '', 'forget', 'pretty', 'pictures', 'painted', 'for', 'mainstream', 'audiences', ',', 'forget', 'charm', ',', 'forget', 'romance', '', 'oz', 'does', \"n't\", 'mess', 'around', '', 'the', 'first', 'episode', 'i', 'ever', 'saw', 'struck', 'me', 'as', 'so', 'nasty', 'it', 'was', 'surreal', ',', 'i', 'could', \"n't\", 'say', 'i', 'was', 'ready', 'for', 'it', ',', 'but', 'as', 'i', 'watched', 'more', ',', 'i', 'developed', 'a', 'taste', 'for', 'oz', ',', 'and', 'got', 'accustomed', 'to', 'the', 'high', 'levels', 'of', 'graphic', 'violence', '', 'not', 'just', 'violence', ',', 'but', 'injustice', '\\\\(', 'crooked', 'guards', 'who', \"'ll\", 'be', 'sold', 'out', 'for', 'a', 'nickel', ',', 'inmates', 'who', \"'ll\", 'kill', 'on', 'order', 'and', 'get', 'away', 'with', 'it', ',', 'well', 'mannered', ',', 'middle', 'class', 'inmates', 'being', 'turned', 'into', 'prison', 'bitches', 'due', 'to', 'their', 'lack', 'of', 'street', 'skills', 'or', 'prison', 'experience', '\\\\)', 'watching', 'oz', ',', 'you', 'may', 'become', 'comfortable', 'with', 'what', 'is', 'uncomfortable', 'viewing', '', 'thats', 'if', 'you', 'can', 'get', 'in', 'touch', 'with', 'your', 'darker', 'side', ''] positive\n"
          ],
          "name": "stdout"
        }
      ]
    },
    {
      "cell_type": "code",
      "metadata": {
        "id": "nV0pRfczV41t",
        "colab_type": "code",
        "colab": {
          "base_uri": "https://localhost:8080/",
          "height": 50
        },
        "outputId": "159f9ba4-01c8-4631-d89c-f48cbc0a2dbe"
      },
      "source": [
        "#%% Check the dataset\n",
        "TEXT.build_vocab(train, vectors= 'glove.6B.300d')\n",
        "LABEL.build_vocab(train)\n",
        "#%% load the pretrained embedding\n",
        "vocab = TEXT.vocab\n",
        "\n",
        "#%% Create the Iterator for datasets (Iterator works like dataloader)\n",
        "\n",
        "train_iter = Iterator(\n",
        "        train, \n",
        "        batch_size=64,\n",
        "        device=torch.device('cuda'), \n",
        "        sort_within_batch=False,\n",
        "        repeat=False)\n",
        "\n",
        "test_iter = Iterator(test, batch_size=64, device=torch.device('cuda'), \n",
        "                     sort_within_batch=False, repeat=False)"
      ],
      "execution_count": 6,
      "outputs": [
        {
          "output_type": "stream",
          "text": [
            ".vector_cache/glove.6B.zip: 862MB [00:42, 20.1MB/s]                           \n",
            "100%|█████████▉| 399556/400000 [00:46<00:00, 8860.84it/s]"
          ],
          "name": "stderr"
        }
      ]
    },
    {
      "cell_type": "code",
      "metadata": {
        "id": "SSjRipJEYm5w",
        "colab_type": "code",
        "colab": {}
      },
      "source": [
        "#%% Text CNN model\n",
        "class textCNN(nn.Module):\n",
        "    \n",
        "    def __init__(self, vocab_built, emb_dim, dim_channel, kernel_wins, num_class):\n",
        "        super(textCNN, self).__init__()\n",
        "        #load pretrained embedding in embedding layer.\n",
        "        self.embed = nn.Embedding(len(vocab_built), emb_dim)\n",
        "        self.embed.weight.data.copy_(vocab_built.vectors)\n",
        "    \n",
        "        #Convolutional Layers with different window size kernels\n",
        "        self.convs = nn.ModuleList([nn.Conv2d(1, dim_channel, (w, emb_dim)) for w in kernel_wins])\n",
        "        #Dropout layer\n",
        "        self.dropout = nn.Dropout(0.6)\n",
        "        \n",
        "        #FC layer\n",
        "        self.fc = nn.Linear(len(kernel_wins)*dim_channel, num_class)\n",
        "        \n",
        "    def forward(self, x):\n",
        "        emb_x = self.embed(x)\n",
        "        emb_x = emb_x.unsqueeze(1)\n",
        "\n",
        "        con_x = [conv(emb_x) for conv in self.convs]\n",
        "\n",
        "        pool_x = [F.max_pool1d(x.squeeze(-1), x.size()[2]) for x in con_x]\n",
        "        \n",
        "        fc_x = torch.cat(pool_x, dim=1)\n",
        "        \n",
        "        fc_x = fc_x.squeeze(-1)\n",
        "\n",
        "        fc_x = self.dropout(fc_x)\n",
        "        logit = self.fc(fc_x)\n",
        "        return logit\n",
        "        \n",
        "\n",
        "#%% Training the Model\n",
        "def train(model, device, train_itr, optimizer, epoch, max_epoch):\n",
        "    model.train()\n",
        "    corrects, train_loss = 0.0,0\n",
        "    for batch in train_itr:\n",
        "        text, target = batch.text, batch.label\n",
        "        text = torch.transpose(text,0, 1)\n",
        "        target.data.sub_(1)\n",
        "        text, target = text.to(device), target.to(device)\n",
        "        optimizer.zero_grad()\n",
        "        logit = model(text)\n",
        "        \n",
        "        loss = F.cross_entropy(logit, target)\n",
        "        loss.backward()\n",
        "        optimizer.step()\n",
        "        \n",
        "        train_loss+= loss.item()\n",
        "        result = torch.max(logit,1)[1]\n",
        "        corrects += (result.view(target.size()).data == target.data).sum()\n",
        "    \n",
        "    size = len(train_itr.dataset)\n",
        "    train_loss /= size \n",
        "    accuracy = 100.0 * corrects/size\n",
        "  \n",
        "    return train_loss, accuracy\n",
        "    \n",
        "def valid(model, device, test_itr):\n",
        "    model.eval()\n",
        "    corrects, test_loss = 0.0,0\n",
        "    for batch in test_itr:\n",
        "        text, target = batch.text, batch.label\n",
        "        text = torch.transpose(text,0, 1)\n",
        "        target.data.sub_(1)\n",
        "        text, target = text.to(device), target.to(device)\n",
        "        \n",
        "        logit = model(text)\n",
        "        loss = F.cross_entropy(logit, target)\n",
        "\n",
        "        \n",
        "        test_loss += loss.item()\n",
        "        result = torch.max(logit,1)[1]\n",
        "        corrects += (result.view(target.size()).data == target.data).sum()\n",
        "    \n",
        "    size = len(test_itr.dataset)\n",
        "    test_loss /= size \n",
        "    accuracy = 100.0 * corrects/size\n",
        "    \n",
        "    return test_loss, accuracy"
      ],
      "execution_count": 0,
      "outputs": []
    },
    {
      "cell_type": "code",
      "metadata": {
        "id": "qNHg-VStdsrB",
        "colab_type": "code",
        "outputId": "98cf4103-98f3-46a6-8f1c-573da46751df",
        "colab": {
          "base_uri": "https://localhost:8080/",
          "height": 535
        }
      },
      "source": [
        "#%%\n",
        "model = textCNN(vocab, 300, 100, [3, 4 , 5] , 2).to('cuda')\n",
        "# print the model summery\n",
        "print(model)    \n",
        "    \n",
        "train_loss = []\n",
        "train_acc = []\n",
        "test_loss = []\n",
        "test_acc = []\n",
        "best_test_acc = -1\n",
        "\n",
        "# Use GPU if it is available\n",
        "device = torch.device(\"cuda\" if torch.cuda.is_available() else \"cpu\")\n",
        "    \n",
        "\n",
        "#optimizer\n",
        "optimizer = optim.Adam(model.parameters(), lr=0.001)\n",
        "\n",
        "for epoch in range(1, 10+1):\n",
        "    #train loss\n",
        "    tr_loss, tr_acc = train(model, device, train_iter, optimizer, epoch, 100)\n",
        "    print('Train Epoch: {} \\t Loss: {} \\t Accuracy: {}%'.format(epoch, tr_loss, tr_acc))\n",
        "    \n",
        "    ts_loss, ts_acc = valid(model, device, test_iter)\n",
        "    print('Valid Epoch: {} \\t Loss: {} \\t Accuracy: {}%'.format(epoch, ts_loss, ts_acc))\n",
        "    \n",
        "    if ts_acc > best_test_acc:\n",
        "        best_test_acc = ts_acc\n",
        "        #save paras(snapshot)\n",
        "        print(\"model saves at {} accuracy\".format(best_test_acc))\n",
        "        torch.save(model.state_dict(), \"textCNN_IMDB_best_valid\")\n",
        "        \n",
        "    train_loss.append(tr_loss)\n",
        "    train_acc.append(tr_acc)\n",
        "    test_loss.append(ts_loss)\n",
        "    test_acc.append(ts_acc)\n",
        "\n"
      ],
      "execution_count": 8,
      "outputs": [
        {
          "output_type": "stream",
          "text": [
            "\r100%|█████████▉| 399556/400000 [01:00<00:00, 8860.84it/s]"
          ],
          "name": "stderr"
        },
        {
          "output_type": "stream",
          "text": [
            "textCNN(\n",
            "  (embed): Embedding(111759, 300)\n",
            "  (convs): ModuleList(\n",
            "    (0): Conv2d(1, 100, kernel_size=(3, 300), stride=(1, 1))\n",
            "    (1): Conv2d(1, 100, kernel_size=(4, 300), stride=(1, 1))\n",
            "    (2): Conv2d(1, 100, kernel_size=(5, 300), stride=(1, 1))\n",
            "  )\n",
            "  (dropout): Dropout(p=0.6)\n",
            "  (fc): Linear(in_features=300, out_features=2, bias=True)\n",
            ")\n",
            "Train Epoch: 1 \t Loss: 0.00619004011281899 \t Accuracy: 81%\n",
            "Valid Epoch: 1 \t Loss: 0.00407342771589756 \t Accuracy: 89%\n",
            "model saves at 89 accuracy\n",
            "Train Epoch: 2 \t Loss: 0.0033542081973382404 \t Accuracy: 91%\n",
            "Valid Epoch: 2 \t Loss: 0.0038653028403719267 \t Accuracy: 89%\n",
            "Train Epoch: 3 \t Loss: 0.0015398084796166846 \t Accuracy: 96%\n",
            "Valid Epoch: 3 \t Loss: 0.004464460483690103 \t Accuracy: 89%\n",
            "Train Epoch: 4 \t Loss: 0.0005861329934559763 \t Accuracy: 98%\n",
            "Valid Epoch: 4 \t Loss: 0.005704072673867146 \t Accuracy: 89%\n",
            "Train Epoch: 5 \t Loss: 0.00024044329240652067 \t Accuracy: 99%\n",
            "Valid Epoch: 5 \t Loss: 0.007095698459694783 \t Accuracy: 88%\n",
            "Train Epoch: 6 \t Loss: 0.00017235195189381817 \t Accuracy: 99%\n",
            "Valid Epoch: 6 \t Loss: 0.008169104041655858 \t Accuracy: 88%\n",
            "Train Epoch: 7 \t Loss: 0.0001137791802241866 \t Accuracy: 99%\n",
            "Valid Epoch: 7 \t Loss: 0.009423333764076234 \t Accuracy: 88%\n",
            "Train Epoch: 8 \t Loss: 0.0001481943223853575 \t Accuracy: 99%\n",
            "Valid Epoch: 8 \t Loss: 0.010284080542623997 \t Accuracy: 88%\n",
            "Train Epoch: 9 \t Loss: 0.00018366284895954388 \t Accuracy: 99%\n",
            "Valid Epoch: 9 \t Loss: 0.01185152335241437 \t Accuracy: 88%\n",
            "Train Epoch: 10 \t Loss: 0.00017501481099492855 \t Accuracy: 99%\n",
            "Valid Epoch: 10 \t Loss: 0.012055357194940249 \t Accuracy: 88%\n"
          ],
          "name": "stdout"
        }
      ]
    },
    {
      "cell_type": "code",
      "metadata": {
        "id": "JvkgZzyvY6_v",
        "colab_type": "code",
        "colab": {
          "base_uri": "https://localhost:8080/",
          "height": 573
        },
        "outputId": "32fb703f-ff45-4d7d-a346-c8a84ccd9265"
      },
      "source": [
        "    #plot train/validation loss versus epoch\n",
        "    x = list(range(1, 10+1))\n",
        "    plt.figure()\n",
        "    plt.title(\"train/validation loss versus epoch\")\n",
        "    plt.xlabel(\"epoch\")\n",
        "    plt.ylabel(\"Average loss\")\n",
        "    plt.plot(x, train_loss,label=\"train loss\")\n",
        "    plt.plot(x, test_loss, color='red', label=\"test loss\")\n",
        "    plt.legend(loc='upper right')\n",
        "    plt.grid(True)\n",
        "    plt.show()\n",
        "    \n",
        "    #plot train/validation accuracy versus epoch\n",
        "    x = list(range(1, 10+1))\n",
        "    plt.figure()\n",
        "    plt.title(\"train/validation accuracy versus epoch\")\n",
        "    plt.xlabel(\"epoch\")\n",
        "    plt.ylabel(\"accuracy(%)\")\n",
        "    plt.plot(x, train_acc,label=\"train accuracy\")\n",
        "    plt.plot(x, test_acc, color='red', label=\"test accuracy\")\n",
        "    plt.legend(loc='upper right')\n",
        "    plt.grid(True)\n",
        "    plt.show()"
      ],
      "execution_count": 15,
      "outputs": [
        {
          "output_type": "display_data",
          "data": {
            "image/png": "[encoded data removed]",
            "text/plain": [
              "<Figure size 432x288 with 1 Axes>"
            ]
          },
          "metadata": {
            "tags": []
          }
        },
        {
          "output_type": "display_data",
          "data": {
            "image/png": "[encoded data removed]",
            "text/plain": [
              "<Figure size 432x288 with 1 Axes>"
            ]
          },
          "metadata": {
            "tags": []
          }
        }
      ]
    },
    {
      "cell_type": "code",
      "metadata": {
        "id": "bMgbLF0Bz4Sb",
        "colab_type": "code",
        "colab": {}
      },
      "source": [
        ""
      ],
      "execution_count": 0,
      "outputs": []
    }
  ]
}